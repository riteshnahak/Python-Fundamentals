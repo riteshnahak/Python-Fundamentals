{
 "cells": [
  {
   "cell_type": "code",
   "execution_count": 1,
   "id": "b99551b5",
   "metadata": {},
   "outputs": [],
   "source": [
    "#Unlike java u can use both \"\" and '' for string\n",
    "s=\"Ritesh\""
   ]
  },
  {
   "cell_type": "code",
   "execution_count": 2,
   "id": "7a7eba11",
   "metadata": {},
   "outputs": [
    {
     "data": {
      "text/plain": [
       "str"
      ]
     },
     "execution_count": 2,
     "metadata": {},
     "output_type": "execute_result"
    }
   ],
   "source": [
    "type(s)"
   ]
  },
  {
   "cell_type": "code",
   "execution_count": 3,
   "id": "8b05b349",
   "metadata": {},
   "outputs": [
    {
     "data": {
      "text/plain": [
       "'R'"
      ]
     },
     "execution_count": 3,
     "metadata": {},
     "output_type": "execute_result"
    }
   ],
   "source": [
    "#Index starts from zero\n",
    "s[0]"
   ]
  },
  {
   "cell_type": "code",
   "execution_count": 4,
   "id": "d4295a72",
   "metadata": {},
   "outputs": [
    {
     "data": {
      "text/plain": [
       "'h'"
      ]
     },
     "execution_count": 4,
     "metadata": {},
     "output_type": "execute_result"
    }
   ],
   "source": [
    "s[-1]"
   ]
  },
  {
   "cell_type": "code",
   "execution_count": 5,
   "id": "df373102",
   "metadata": {},
   "outputs": [],
   "source": [
    "s2=\"This my first programming class's demo!\""
   ]
  },
  {
   "cell_type": "code",
   "execution_count": 6,
   "id": "5d753230",
   "metadata": {},
   "outputs": [
    {
     "data": {
      "text/plain": [
       "'f'"
      ]
     },
     "execution_count": 6,
     "metadata": {},
     "output_type": "execute_result"
    }
   ],
   "source": [
    "s2[8]"
   ]
  },
  {
   "cell_type": "code",
   "execution_count": 7,
   "id": "3870e09d",
   "metadata": {},
   "outputs": [
    {
     "data": {
      "text/plain": [
       "'his '"
      ]
     },
     "execution_count": 7,
     "metadata": {},
     "output_type": "execute_result"
    }
   ],
   "source": [
    "#To get indexes between ranges\n",
    "s2[1:5]\n",
    "#start from 1 go till 5 and exclude 5(upper bound)"
   ]
  },
  {
   "cell_type": "code",
   "execution_count": 8,
   "id": "23757e48",
   "metadata": {},
   "outputs": [
    {
     "data": {
      "text/plain": [
       "'hsm i'"
      ]
     },
     "execution_count": 8,
     "metadata": {},
     "output_type": "execute_result"
    }
   ],
   "source": [
    "#instead fo jumping one step jump two step at a time\n",
    "s2[1:10:2]"
   ]
  },
  {
   "cell_type": "code",
   "execution_count": 9,
   "id": "1b60e23b",
   "metadata": {},
   "outputs": [],
   "source": [
    "s3=\"Ritesh Kumar\""
   ]
  },
  {
   "cell_type": "code",
   "execution_count": 10,
   "id": "f628509c",
   "metadata": {},
   "outputs": [
    {
     "data": {
      "text/plain": [
       "12"
      ]
     },
     "execution_count": 10,
     "metadata": {},
     "output_type": "execute_result"
    }
   ],
   "source": [
    "#it starts from 1 not 0,Indexing only start from zero\n",
    "len(s3)"
   ]
  },
  {
   "cell_type": "code",
   "execution_count": 11,
   "id": "5ef53476",
   "metadata": {},
   "outputs": [
    {
     "data": {
      "text/plain": [
       "'Rts ua'"
      ]
     },
     "execution_count": 11,
     "metadata": {},
     "output_type": "execute_result"
    }
   ],
   "source": [
    "s3[0:12:2]"
   ]
  },
  {
   "cell_type": "code",
   "execution_count": 12,
   "id": "7c3f63ed",
   "metadata": {},
   "outputs": [
    {
     "data": {
      "text/plain": [
       "''"
      ]
     },
     "execution_count": 12,
     "metadata": {},
     "output_type": "execute_result"
    }
   ],
   "source": [
    "#0-8--> move in positive direction\n",
    "#-1-->jump in negative direction\n",
    "#it create contradiction so it will give blank..\n",
    "s3[0:12:-1]"
   ]
  },
  {
   "cell_type": "code",
   "execution_count": 13,
   "id": "e7de003d",
   "metadata": {},
   "outputs": [
    {
     "data": {
      "text/plain": [
       "'ramuK hseti'"
      ]
     },
     "execution_count": 13,
     "metadata": {},
     "output_type": "execute_result"
    }
   ],
   "source": [
    "s3[12:0:-1]\n",
    "# R is not coming as it is exculding zero"
   ]
  },
  {
   "cell_type": "code",
   "execution_count": 14,
   "id": "ed67bece",
   "metadata": {},
   "outputs": [
    {
     "data": {
      "text/plain": [
       "'ramuK hseti'"
      ]
     },
     "execution_count": 14,
     "metadata": {},
     "output_type": "execute_result"
    }
   ],
   "source": [
    "s3[13:0:-1]"
   ]
  },
  {
   "cell_type": "code",
   "execution_count": 15,
   "id": "b4a46092",
   "metadata": {},
   "outputs": [
    {
     "data": {
      "text/plain": [
       "'Ritesh Ku'"
      ]
     },
     "execution_count": 15,
     "metadata": {},
     "output_type": "execute_result"
    }
   ],
   "source": [
    "#starting point not given end point is -3 and jump size is 1\n",
    "# it will start from zero and go till where the index is -3.\n",
    "s3[:-3]"
   ]
  },
  {
   "cell_type": "code",
   "execution_count": 16,
   "id": "a6d14c07",
   "metadata": {},
   "outputs": [
    {
     "data": {
      "text/plain": [
       "'ar'"
      ]
     },
     "execution_count": 16,
     "metadata": {},
     "output_type": "execute_result"
    }
   ],
   "source": [
    "# Upper bound is not mentioned so it will take len(str)+1\n",
    "s3[-2:]"
   ]
  },
  {
   "cell_type": "code",
   "execution_count": 17,
   "id": "840c904c",
   "metadata": {},
   "outputs": [
    {
     "data": {
      "text/plain": [
       "'Ritesh Kumar'"
      ]
     },
     "execution_count": 17,
     "metadata": {},
     "output_type": "execute_result"
    }
   ],
   "source": [
    "s3[::1]"
   ]
  },
  {
   "cell_type": "code",
   "execution_count": 18,
   "id": "5aa9bbfd",
   "metadata": {},
   "outputs": [
    {
     "data": {
      "text/plain": [
       "'ramuK hsetiR'"
      ]
     },
     "execution_count": 18,
     "metadata": {},
     "output_type": "execute_result"
    }
   ],
   "source": [
    "s3[::-1]"
   ]
  },
  {
   "cell_type": "code",
   "execution_count": 19,
   "id": "cc2fa940",
   "metadata": {},
   "outputs": [
    {
     "data": {
      "text/plain": [
       "'Ritesh Kumar'"
      ]
     },
     "execution_count": 19,
     "metadata": {},
     "output_type": "execute_result"
    }
   ],
   "source": [
    "s3[0:5000:1]"
   ]
  },
  {
   "cell_type": "code",
   "execution_count": 20,
   "id": "51cb7e06",
   "metadata": {},
   "outputs": [],
   "source": [
    "s4=\"Ritesh\""
   ]
  },
  {
   "cell_type": "code",
   "execution_count": 21,
   "id": "676c814b",
   "metadata": {},
   "outputs": [
    {
     "data": {
      "text/plain": [
       "'Rites'"
      ]
     },
     "execution_count": 21,
     "metadata": {},
     "output_type": "execute_result"
    }
   ],
   "source": [
    "s4[-6:-1:1]"
   ]
  },
  {
   "cell_type": "code",
   "execution_count": 22,
   "id": "2c2b32d1",
   "metadata": {},
   "outputs": [
    {
     "data": {
      "text/plain": [
       "''"
      ]
     },
     "execution_count": 22,
     "metadata": {},
     "output_type": "execute_result"
    }
   ],
   "source": [
    "# both is available at upper bound so no result\n",
    "s4[-6:0:1]"
   ]
  },
  {
   "cell_type": "code",
   "execution_count": 23,
   "id": "e1a4e726",
   "metadata": {},
   "outputs": [
    {
     "data": {
      "text/plain": [
       "''"
      ]
     },
     "execution_count": 23,
     "metadata": {},
     "output_type": "execute_result"
    }
   ],
   "source": [
    "s4[-6:0:-1]"
   ]
  },
  {
   "cell_type": "code",
   "execution_count": 24,
   "id": "b5fb2f23",
   "metadata": {},
   "outputs": [
    {
     "data": {
      "text/plain": [
       "''"
      ]
     },
     "execution_count": 24,
     "metadata": {},
     "output_type": "execute_result"
    }
   ],
   "source": [
    "#no upper bound so start from zero and move in postive direction but jump in negative direction.\n",
    "s4[:-1:-1]"
   ]
  },
  {
   "cell_type": "code",
   "execution_count": 25,
   "id": "31fcd5b4",
   "metadata": {},
   "outputs": [
    {
     "data": {
      "text/plain": [
       "'Ritesh'"
      ]
     },
     "execution_count": 25,
     "metadata": {},
     "output_type": "execute_result"
    }
   ],
   "source": [
    "s4"
   ]
  },
  {
   "cell_type": "code",
   "execution_count": 26,
   "id": "84e47e89",
   "metadata": {},
   "outputs": [
    {
     "data": {
      "text/plain": [
       "'Ritesh1'"
      ]
     },
     "execution_count": 26,
     "metadata": {},
     "output_type": "execute_result"
    }
   ],
   "source": [
    "s4+'1'"
   ]
  },
  {
   "cell_type": "code",
   "execution_count": 27,
   "id": "0291086d",
   "metadata": {},
   "outputs": [
    {
     "data": {
      "text/plain": [
       "'Ritesh'"
      ]
     },
     "execution_count": 27,
     "metadata": {},
     "output_type": "execute_result"
    }
   ],
   "source": [
    "# as string is immutable\n",
    "s4"
   ]
  },
  {
   "cell_type": "code",
   "execution_count": 28,
   "id": "b7fdbd6d",
   "metadata": {},
   "outputs": [
    {
     "data": {
      "text/plain": [
       "6"
      ]
     },
     "execution_count": 28,
     "metadata": {},
     "output_type": "execute_result"
    }
   ],
   "source": [
    "len(s4)"
   ]
  },
  {
   "cell_type": "code",
   "execution_count": 29,
   "id": "59fe9416",
   "metadata": {},
   "outputs": [
    {
     "data": {
      "text/plain": [
       "'rITESH'"
      ]
     },
     "execution_count": 29,
     "metadata": {},
     "output_type": "execute_result"
    }
   ],
   "source": [
    "s4.swapcase()"
   ]
  },
  {
   "cell_type": "code",
   "execution_count": 30,
   "id": "87fe2f90",
   "metadata": {},
   "outputs": [
    {
     "data": {
      "text/plain": [
       "'RiteshRitesh'"
      ]
     },
     "execution_count": 30,
     "metadata": {},
     "output_type": "execute_result"
    }
   ],
   "source": [
    "s4*2"
   ]
  },
  {
   "cell_type": "code",
   "execution_count": 31,
   "id": "139594c1",
   "metadata": {},
   "outputs": [
    {
     "data": {
      "text/plain": [
       "1"
      ]
     },
     "execution_count": 31,
     "metadata": {},
     "output_type": "execute_result"
    }
   ],
   "source": [
    "s4.count('s')"
   ]
  },
  {
   "cell_type": "code",
   "execution_count": 32,
   "id": "54b5abd9",
   "metadata": {},
   "outputs": [
    {
     "data": {
      "text/plain": [
       "0"
      ]
     },
     "execution_count": 32,
     "metadata": {},
     "output_type": "execute_result"
    }
   ],
   "source": [
    "s4.count('n')"
   ]
  },
  {
   "cell_type": "code",
   "execution_count": 33,
   "id": "d8ad100a",
   "metadata": {},
   "outputs": [
    {
     "data": {
      "text/plain": [
       "['Ri', 'esh']"
      ]
     },
     "execution_count": 33,
     "metadata": {},
     "output_type": "execute_result"
    }
   ],
   "source": [
    "s4.split('t')"
   ]
  },
  {
   "cell_type": "code",
   "execution_count": 34,
   "id": "767cd34e",
   "metadata": {},
   "outputs": [],
   "source": [
    "sw=\"Samsung Group,[3] or simply Samsung (Korean: 삼성; RR: samseong [samsʌŋ]) (stylized as SΛMSUNG), is a South Korean multinational manufacturing conglomerate headquartered in Samsung Town, Seoul, South Korea.\""
   ]
  },
  {
   "cell_type": "code",
   "execution_count": 35,
   "id": "e602ef4f",
   "metadata": {},
   "outputs": [
    {
     "data": {
      "text/plain": [
       "['Samsung',\n",
       " 'Group,[3]',\n",
       " 'or',\n",
       " 'simply',\n",
       " 'Samsung',\n",
       " '(Korean:',\n",
       " '삼성;',\n",
       " 'RR:',\n",
       " 'samseong',\n",
       " '[samsʌŋ])',\n",
       " '(stylized',\n",
       " 'as',\n",
       " 'SΛMSUNG),',\n",
       " 'is',\n",
       " 'a',\n",
       " 'South',\n",
       " 'Korean',\n",
       " 'multinational',\n",
       " 'manufacturing',\n",
       " 'conglomerate',\n",
       " 'headquartered',\n",
       " 'in',\n",
       " 'Samsung',\n",
       " 'Town,',\n",
       " 'Seoul,',\n",
       " 'South',\n",
       " 'Korea.']"
      ]
     },
     "execution_count": 35,
     "metadata": {},
     "output_type": "execute_result"
    }
   ],
   "source": [
    "sw.split(\" \")"
   ]
  },
  {
   "cell_type": "code",
   "execution_count": 36,
   "id": "7ba1caf1",
   "metadata": {},
   "outputs": [],
   "source": [
    "#if u have multi lined string always use triple quote"
   ]
  },
  {
   "cell_type": "code",
   "execution_count": 37,
   "id": "13bea398",
   "metadata": {},
   "outputs": [],
   "source": [
    "sw2='''Samsung Group,[3] or simply Samsung (Korean: 삼성; RR: samseong [samsʌŋ]) (stylized as SΛMSUNG), is a South Korean multinational manufacturing conglomerate headquartered in Samsung Town, Seoul, South Korea.[1] It comprises numerous affiliated businesses,[1] most of them united under the Samsung brand, and is the largest South Korean chaebol (business conglomerate). As of 2020, Samsung has the eighth highest global brand value.[4]\n",
    "\n",
    "Samsung was founded by Lee Byung-chul in 1938 as a trading company. Over the next three decades, the group diversified into areas including food processing, textiles, insurance, securities, and retail. Samsung entered the electronics industry in the late 1960s and the construction and shipbuilding industries in the mid-1970s; these areas would drive its subsequent growth. Following Lee's death in 1987, Samsung was separated into five business groups – Samsung Group, Shinsegae Group, CJ Group and Hansol Group, and JoongAng Group.\n",
    "\n",
    "Notable Samsung industrial affiliates include Samsung Electronics (the world's largest information technology company, consumer electronics maker and chipmaker measured by 2017 revenues),[5][6] Samsung Heavy Industries (the world's second largest shipbuilder measured by 2010 revenues),[7] and Samsung Engineering and Samsung C&T Corporation (respectively the world's 13th and 36th largest construction companies).[8] Other notable subsidiaries include Samsung Life Insurance (the world's 14th largest life insurance company),[9] Samsung Everland (operator of Everland Resort, the oldest theme park in South Korea)[10] and Cheil Worldwide (the world's 15th largest advertising agency, as measured by 2012 revenues).[11][12]\n",
    "\n",
    "Etymology\n",
    "According to Samsung's founder, the meaning of the Korean hanja word Samsung (三星) is \"three stars\". The word \"three\" represents something \"big, numerous and powerful\",[13] while \"stars\" means \"everlasting\" or \"eternal\", like stars in the sky.[14][15]'''"
   ]
  },
  {
   "cell_type": "code",
   "execution_count": 38,
   "id": "2d0efcc9",
   "metadata": {
    "scrolled": false
   },
   "outputs": [
    {
     "data": {
      "text/plain": [
       "'Samsung Group,[3] or simply Samsung (Korean: 삼성; RR: samseong [samsʌŋ]) (stylized as SΛMSUNG), is a South Korean multinational manufacturing conglomerate headquartered in Samsung Town, Seoul, South Korea.[1] It comprises numerous affiliated businesses,[1] most of them united under the Samsung brand, and is the largest South Korean chaebol (business conglomerate). As of 2020, Samsung has the eighth highest global brand value.[4]\\n\\nSamsung was founded by Lee Byung-chul in 1938 as a trading company. Over the next three decades, the group diversified into areas including food processing, textiles, insurance, securities, and retail. Samsung entered the electronics industry in the late 1960s and the construction and shipbuilding industries in the mid-1970s; these areas would drive its subsequent growth. Following Lee\\'s death in 1987, Samsung was separated into five business groups – Samsung Group, Shinsegae Group, CJ Group and Hansol Group, and JoongAng Group.\\n\\nNotable Samsung industrial affiliates include Samsung Electronics (the world\\'s largest information technology company, consumer electronics maker and chipmaker measured by 2017 revenues),[5][6] Samsung Heavy Industries (the world\\'s second largest shipbuilder measured by 2010 revenues),[7] and Samsung Engineering and Samsung C&T Corporation (respectively the world\\'s 13th and 36th largest construction companies).[8] Other notable subsidiaries include Samsung Life Insurance (the world\\'s 14th largest life insurance company),[9] Samsung Everland (operator of Everland Resort, the oldest theme park in South Korea)[10] and Cheil Worldwide (the world\\'s 15th largest advertising agency, as measured by 2012 revenues).[11][12]\\n\\nEtymology\\nAccording to Samsung\\'s founder, the meaning of the Korean hanja word Samsung (三星) is \"three stars\". The word \"three\" represents something \"big, numerous and powerful\",[13] while \"stars\" means \"everlasting\" or \"eternal\", like stars in the sky.[14][15]'"
      ]
     },
     "execution_count": 38,
     "metadata": {},
     "output_type": "execute_result"
    }
   ],
   "source": [
    "sw2"
   ]
  },
  {
   "cell_type": "code",
   "execution_count": 39,
   "id": "6bb6974f",
   "metadata": {},
   "outputs": [],
   "source": [
    "s5=\"ritesh kumar\""
   ]
  },
  {
   "cell_type": "code",
   "execution_count": 40,
   "id": "4d626af0",
   "metadata": {},
   "outputs": [
    {
     "data": {
      "text/plain": [
       "'Ritesh kumar'"
      ]
     },
     "execution_count": 40,
     "metadata": {},
     "output_type": "execute_result"
    }
   ],
   "source": [
    "#First letter of sentence is capital\n",
    "s5.capitalize()"
   ]
  },
  {
   "cell_type": "code",
   "execution_count": 41,
   "id": "74bd3df3",
   "metadata": {},
   "outputs": [
    {
     "data": {
      "text/plain": [
       "'Ritesh Kumar'"
      ]
     },
     "execution_count": 41,
     "metadata": {},
     "output_type": "execute_result"
    }
   ],
   "source": [
    "# First letter of each word is capital\n",
    "s5.title()"
   ]
  },
  {
   "cell_type": "code",
   "execution_count": 42,
   "id": "4c2d8326",
   "metadata": {},
   "outputs": [
    {
     "data": {
      "text/plain": [
       "<reversed at 0x27daf06e6e0>"
      ]
     },
     "execution_count": 42,
     "metadata": {},
     "output_type": "execute_result"
    }
   ],
   "source": [
    "reversed(s5)\n",
    "#it will return an object refernece"
   ]
  },
  {
   "cell_type": "code",
   "execution_count": 43,
   "id": "1426f3d2",
   "metadata": {},
   "outputs": [
    {
     "data": {
      "text/plain": [
       "'ramuk hsetir'"
      ]
     },
     "execution_count": 43,
     "metadata": {},
     "output_type": "execute_result"
    }
   ],
   "source": [
    "#joint object with \"\"\n",
    "''.join(reversed(s5))"
   ]
  },
  {
   "cell_type": "code",
   "execution_count": 44,
   "id": "b0d6bf79",
   "metadata": {},
   "outputs": [],
   "source": [
    "s6=\"    Rit   esh    \""
   ]
  },
  {
   "cell_type": "code",
   "execution_count": 45,
   "id": "11e82a7f",
   "metadata": {},
   "outputs": [
    {
     "data": {
      "text/plain": [
       "'Rit   esh'"
      ]
     },
     "execution_count": 45,
     "metadata": {},
     "output_type": "execute_result"
    }
   ],
   "source": [
    "s6.strip()"
   ]
  },
  {
   "cell_type": "code",
   "execution_count": 46,
   "id": "d3d6f0b5",
   "metadata": {},
   "outputs": [
    {
     "data": {
      "text/plain": [
       "'Rit   esh    '"
      ]
     },
     "execution_count": 46,
     "metadata": {},
     "output_type": "execute_result"
    }
   ],
   "source": [
    "s6.lstrip()"
   ]
  },
  {
   "cell_type": "code",
   "execution_count": 47,
   "id": "13466fb3",
   "metadata": {},
   "outputs": [
    {
     "data": {
      "text/plain": [
       "'    Rit   esh'"
      ]
     },
     "execution_count": 47,
     "metadata": {},
     "output_type": "execute_result"
    }
   ],
   "source": [
    "s6.rstrip()"
   ]
  },
  {
   "cell_type": "code",
   "execution_count": 48,
   "id": "323852b7",
   "metadata": {},
   "outputs": [
    {
     "data": {
      "text/plain": [
       "'R i t e s h'"
      ]
     },
     "execution_count": 48,
     "metadata": {},
     "output_type": "execute_result"
    }
   ],
   "source": [
    "' '.join(\"Ritesh\")"
   ]
  },
  {
   "cell_type": "code",
   "execution_count": 49,
   "id": "fe422832",
   "metadata": {},
   "outputs": [
    {
     "data": {
      "text/plain": [
       "'R$i$t$e$s$h'"
      ]
     },
     "execution_count": 49,
     "metadata": {},
     "output_type": "execute_result"
    }
   ],
   "source": [
    "'$'.join(\"Ritesh\")"
   ]
  },
  {
   "cell_type": "code",
   "execution_count": 50,
   "id": "ccd90b25",
   "metadata": {},
   "outputs": [],
   "source": [
    "a='Ritesh'"
   ]
  },
  {
   "cell_type": "code",
   "execution_count": 51,
   "id": "e2934f95",
   "metadata": {},
   "outputs": [
    {
     "data": {
      "text/plain": [
       "'@@@@@@@Ritesh@@@@@@@'"
      ]
     },
     "execution_count": 51,
     "metadata": {},
     "output_type": "execute_result"
    }
   ],
   "source": [
    "a.center(20,\"@\")"
   ]
  },
  {
   "cell_type": "code",
   "execution_count": 52,
   "id": "aa5aeb8c",
   "metadata": {},
   "outputs": [
    {
     "data": {
      "text/plain": [
       "False"
      ]
     },
     "execution_count": 52,
     "metadata": {},
     "output_type": "execute_result"
    }
   ],
   "source": [
    "a.isupper()"
   ]
  },
  {
   "cell_type": "code",
   "execution_count": 53,
   "id": "1d785c8d",
   "metadata": {},
   "outputs": [
    {
     "data": {
      "text/plain": [
       "False"
      ]
     },
     "execution_count": 53,
     "metadata": {},
     "output_type": "execute_result"
    }
   ],
   "source": [
    "a.isspace()"
   ]
  },
  {
   "cell_type": "code",
   "execution_count": 54,
   "id": "65e26b22",
   "metadata": {},
   "outputs": [
    {
     "data": {
      "text/plain": [
       "True"
      ]
     },
     "execution_count": 54,
     "metadata": {},
     "output_type": "execute_result"
    }
   ],
   "source": [
    "# It check either alpha or numeric\n",
    "a.isalnum()"
   ]
  },
  {
   "cell_type": "code",
   "execution_count": 55,
   "id": "3736d77f",
   "metadata": {},
   "outputs": [
    {
     "data": {
      "text/plain": [
       "True"
      ]
     },
     "execution_count": 55,
     "metadata": {},
     "output_type": "execute_result"
    }
   ],
   "source": [
    "a.isalpha()"
   ]
  },
  {
   "cell_type": "raw",
   "id": "7844842a",
   "metadata": {},
   "source": [
    "Solve below\n",
    "s = \"this is My First Python programming class and i am learNING python string and its function\"\n",
    "1 . Try to extract data from index one to index 300 with a jump of 3 \n",
    "2. Try to reverse a string without using reverse function \n",
    "3. Try to split a string after conversion of entire string in uppercase \n",
    "4. try to convert the whole string into lower case \n",
    "5 . Try to capitalize the whole string \n",
    "6 . Write a diference between isalnum() and isalpha()\n",
    "7. Try to give an example of expand tab\n",
    "8 . Give an example of strip , lstrip and rstrip \n",
    "9.  Replace a string charecter by another charector by taking your own example \n",
    "\"Ritesh\"\n",
    "10 . Try  to give a defination of string center function with and exmple \n",
    "11 . Write your own definition of compiler and interpretor without copy paste form internet in your own language\n",
    "12 . Python is a interpreted of compiled language give a clear ans with your understanding "
   ]
  },
  {
   "cell_type": "code",
   "execution_count": 56,
   "id": "2ce5ac83",
   "metadata": {},
   "outputs": [],
   "source": [
    "s = \"this is My First Python programming class and i am learNING python string and its function\""
   ]
  },
  {
   "cell_type": "code",
   "execution_count": 57,
   "id": "a9064ab5",
   "metadata": {},
   "outputs": [
    {
     "data": {
      "text/plain": [
       "'h   r tnrrmglsnimeNGyosi dtfco'"
      ]
     },
     "execution_count": 57,
     "metadata": {},
     "output_type": "execute_result"
    }
   ],
   "source": [
    "#1 . Try to extract data from index one to index 300 with a jump of 3 \n",
    "s[1:301:3]"
   ]
  },
  {
   "cell_type": "code",
   "execution_count": 58,
   "id": "8b63a437",
   "metadata": {},
   "outputs": [
    {
     "data": {
      "text/plain": [
       "'noitcnuf sti dna gnirts nohtyp GNINrael ma i dna ssalc gnimmargorp nohtyP tsriF yM si siht'"
      ]
     },
     "execution_count": 58,
     "metadata": {},
     "output_type": "execute_result"
    }
   ],
   "source": [
    "#2. Try to reverse a string without using reverse function \n",
    "s[::-1]"
   ]
  },
  {
   "cell_type": "code",
   "execution_count": 60,
   "id": "994665c0",
   "metadata": {},
   "outputs": [
    {
     "data": {
      "text/plain": [
       "['THIS',\n",
       " 'IS',\n",
       " 'MY',\n",
       " 'FIRST',\n",
       " 'PYTHON',\n",
       " 'PROGRAMMING',\n",
       " 'CLASS',\n",
       " 'AND',\n",
       " 'I',\n",
       " 'AM',\n",
       " 'LEARNING',\n",
       " 'PYTHON',\n",
       " 'STRING',\n",
       " 'AND',\n",
       " 'ITS',\n",
       " 'FUNCTION']"
      ]
     },
     "execution_count": 60,
     "metadata": {},
     "output_type": "execute_result"
    }
   ],
   "source": [
    "#3. Try to split a string after conversion of entire string in uppercase \n",
    "s.upper().split()"
   ]
  },
  {
   "cell_type": "code",
   "execution_count": 61,
   "id": "0d1f1289",
   "metadata": {},
   "outputs": [
    {
     "data": {
      "text/plain": [
       "'this is my first python programming class and i am learning python string and its function'"
      ]
     },
     "execution_count": 61,
     "metadata": {},
     "output_type": "execute_result"
    }
   ],
   "source": [
    "#4. try to convert the whole string into lower case \n",
    "s.lower()"
   ]
  },
  {
   "cell_type": "code",
   "execution_count": 62,
   "id": "e44a8cdd",
   "metadata": {},
   "outputs": [
    {
     "data": {
      "text/plain": [
       "'This is my first python programming class and i am learning python string and its function'"
      ]
     },
     "execution_count": 62,
     "metadata": {},
     "output_type": "execute_result"
    }
   ],
   "source": [
    "#5 . Try to capitalize the whole string \n",
    "s.capitalize()"
   ]
  },
  {
   "cell_type": "code",
   "execution_count": 64,
   "id": "87d446d8",
   "metadata": {},
   "outputs": [
    {
     "data": {
      "text/plain": [
       "False"
      ]
     },
     "execution_count": 64,
     "metadata": {},
     "output_type": "execute_result"
    }
   ],
   "source": [
    "#6 . Write a diference between isalnum() and isalpha()\n",
    "# Alphanumeric contain check wheteher string contain both alphabet and numeric or not\n",
    "s.isalnum()"
   ]
  },
  {
   "cell_type": "code",
   "execution_count": 66,
   "id": "e111710b",
   "metadata": {},
   "outputs": [
    {
     "data": {
      "text/plain": [
       "False"
      ]
     },
     "execution_count": 66,
     "metadata": {},
     "output_type": "execute_result"
    }
   ],
   "source": [
    "# It will check any alphabet is there or not\n",
    "s.isalpha()\n",
    "#function returns False because the string contains spaces, numbers, and punctuation marks such as spaces, periods, and commas. "
   ]
  },
  {
   "cell_type": "code",
   "execution_count": 69,
   "id": "d5d2f38c",
   "metadata": {},
   "outputs": [
    {
     "data": {
      "text/plain": [
       "'this is My First Python programming class and i am learNING python string and its function'"
      ]
     },
     "execution_count": 69,
     "metadata": {},
     "output_type": "execute_result"
    }
   ],
   "source": [
    "#7. Try to give an example of expand tab\n",
    "s.expandtabs()"
   ]
  },
  {
   "cell_type": "code",
   "execution_count": 70,
   "id": "19927bf2",
   "metadata": {},
   "outputs": [
    {
     "name": "stdout",
     "output_type": "stream",
     "text": [
      "this\tis\tmy\tstring\n"
     ]
    }
   ],
   "source": [
    "a = 'this\\tis\\tmy\\tstring'\n",
    "print(a)"
   ]
  },
  {
   "cell_type": "code",
   "execution_count": 71,
   "id": "64a720f7",
   "metadata": {},
   "outputs": [
    {
     "name": "stdout",
     "output_type": "stream",
     "text": [
      "this    is      my      string\n"
     ]
    }
   ],
   "source": [
    "expanded_string = a.expandtabs()\n",
    "print(expanded_string)"
   ]
  },
  {
   "cell_type": "raw",
   "id": "9e820619",
   "metadata": {},
   "source": [
    "By default, expandtabs() replaces a tab character with 8 spaces. However, you can provide an optional argument to specify a different tab size. For example, s.expandtabs(4)"
   ]
  },
  {
   "cell_type": "code",
   "execution_count": 72,
   "id": "17e14f2e",
   "metadata": {},
   "outputs": [],
   "source": [
    "#8 . Give an example of strip , lstrip and rstrip \n",
    "a=\"    Ritesh   Kumar  Nahak       \""
   ]
  },
  {
   "cell_type": "code",
   "execution_count": 73,
   "id": "84bbdc80",
   "metadata": {},
   "outputs": [
    {
     "data": {
      "text/plain": [
       "'Ritesh   Kumar  Nahak       '"
      ]
     },
     "execution_count": 73,
     "metadata": {},
     "output_type": "execute_result"
    }
   ],
   "source": [
    "a.lstrip()"
   ]
  },
  {
   "cell_type": "code",
   "execution_count": 74,
   "id": "4c6cecbf",
   "metadata": {},
   "outputs": [
    {
     "data": {
      "text/plain": [
       "'    Ritesh   Kumar  Nahak'"
      ]
     },
     "execution_count": 74,
     "metadata": {},
     "output_type": "execute_result"
    }
   ],
   "source": [
    "a.rstrip()"
   ]
  },
  {
   "cell_type": "code",
   "execution_count": 75,
   "id": "e3a3664d",
   "metadata": {},
   "outputs": [
    {
     "data": {
      "text/plain": [
       "'Ritesh   Kumar  Nahak'"
      ]
     },
     "execution_count": 75,
     "metadata": {},
     "output_type": "execute_result"
    }
   ],
   "source": [
    "a.strip()"
   ]
  },
  {
   "cell_type": "code",
   "execution_count": 77,
   "id": "919fd17a",
   "metadata": {},
   "outputs": [
    {
     "data": {
      "text/plain": [
       "'Rixesh'"
      ]
     },
     "execution_count": 77,
     "metadata": {},
     "output_type": "execute_result"
    }
   ],
   "source": [
    "#9.  Replace a string character by another charector by taking your own example \"Ritesh\"\n",
    "a=\"Ritesh\"\n",
    "a.replace('t','x')"
   ]
  },
  {
   "cell_type": "code",
   "execution_count": 78,
   "id": "6077c20e",
   "metadata": {},
   "outputs": [
    {
     "data": {
      "text/plain": [
       "'  Ritesh  '"
      ]
     },
     "execution_count": 78,
     "metadata": {},
     "output_type": "execute_result"
    }
   ],
   "source": [
    "#10 . Try  to give a defination of string center function with and exmple \n",
    "a.center(10,\" \")"
   ]
  },
  {
   "cell_type": "raw",
   "id": "a054f98c",
   "metadata": {},
   "source": [
    "a compiler translates the entire source code into machine code or bytecode before execution, while an interpreter reads and executes the source code line by line without prior translation. Compilers provide faster execution but require a separate compilation step, while interpreters offer interactivity and ease of use at the cost of potentially slower execution speed."
   ]
  },
  {
   "cell_type": "raw",
   "id": "70c364a8",
   "metadata": {},
   "source": [
    "Python is typically referred to as an interpreted language. The Python interpreter reads and executes the source code line by line without a separate compilation step. This means that Python code is not compiled into machine code before execution, as is the case with languages like C or Java."
   ]
  },
  {
   "cell_type": "code",
   "execution_count": null,
   "id": "3467ca38",
   "metadata": {},
   "outputs": [],
   "source": []
  }
 ],
 "metadata": {
  "kernelspec": {
   "display_name": "Python 3 (ipykernel)",
   "language": "python",
   "name": "python3"
  },
  "language_info": {
   "codemirror_mode": {
    "name": "ipython",
    "version": 3
   },
   "file_extension": ".py",
   "mimetype": "text/x-python",
   "name": "python",
   "nbconvert_exporter": "python",
   "pygments_lexer": "ipython3",
   "version": "3.11.0"
  }
 },
 "nbformat": 4,
 "nbformat_minor": 5
}
